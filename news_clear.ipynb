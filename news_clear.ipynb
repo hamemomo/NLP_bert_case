{
 "cells": [
  {
   "cell_type": "code",
   "execution_count": 1,
   "metadata": {},
   "outputs": [],
   "source": [
    "import numpy as np\n",
    "import pandas as pd"
   ]
  },
  {
   "cell_type": "code",
   "execution_count": 59,
   "metadata": {},
   "outputs": [],
   "source": [
    "df = pd.read_csv('C:/Users/yhchou/Desktop/csv_file/nownews/news_content_0514.csv')"
   ]
  },
  {
   "cell_type": "code",
   "execution_count": 60,
   "metadata": {},
   "outputs": [],
   "source": [
    "df = df[~df['news_label'].isin([1])]\n",
    "df = df[~df['news_label'].isin([2])]\n",
    "df = df[~df['news_label'].isin([4])]\n",
    "df = df[~df['news_label'].isin([5])]\n",
    "df = df[~df['news_label'].isin([8])]"
   ]
  },
  {
   "cell_type": "code",
   "execution_count": 62,
   "metadata": {},
   "outputs": [
    {
     "data": {
      "text/html": [
       "<div>\n",
       "<style scoped>\n",
       "    .dataframe tbody tr th:only-of-type {\n",
       "        vertical-align: middle;\n",
       "    }\n",
       "\n",
       "    .dataframe tbody tr th {\n",
       "        vertical-align: top;\n",
       "    }\n",
       "\n",
       "    .dataframe thead th {\n",
       "        text-align: right;\n",
       "    }\n",
       "</style>\n",
       "<table border=\"1\" class=\"dataframe\">\n",
       "  <thead>\n",
       "    <tr style=\"text-align: right;\">\n",
       "      <th></th>\n",
       "      <th>Unnamed: 0</th>\n",
       "      <th>title</th>\n",
       "      <th>content</th>\n",
       "      <th>news_label</th>\n",
       "      <th>Unnamed: 0.1</th>\n",
       "    </tr>\n",
       "  </thead>\n",
       "  <tbody>\n",
       "    <tr>\n",
       "      <th>0</th>\n",
       "      <td>0</td>\n",
       "      <td>李來希扯「小燈泡」堅持不道歉！郭昱晴氣炸：你就是無恥 | 政治 | NOWnews 今日新聞</td>\n",
       "      <td>全國公務人員協會榮譽理事長李來希今（ 13 ）日痛罵挺罷韓的時代力量立委王婉諭，更口出惡言「...</td>\n",
       "      <td>0</td>\n",
       "      <td>NaN</td>\n",
       "    </tr>\n",
       "    <tr>\n",
       "      <th>1</th>\n",
       "      <td>1</td>\n",
       "      <td>恐遭國民黨開除黨籍！李來希搬「46年經歷」狠嗆：我好怕 | 政治 | NOWnews 今日新聞</td>\n",
       "      <td>全國公務人員協會榮譽理事長李來希今（ 13 ）日狠戳時力立委王婉諭喪女之痛，引發全台譁然。連...</td>\n",
       "      <td>0</td>\n",
       "      <td>NaN</td>\n",
       "    </tr>\n",
       "    <tr>\n",
       "      <th>2</th>\n",
       "      <td>2</td>\n",
       "      <td>因選舉欠下2000萬全數還清　柯文哲：陳佩琪不會怪我了！ | 政治 | NOWnews 今日新聞</td>\n",
       "      <td>台北市長柯文哲，2018年在進行連任之戰期間，為了籌措選舉經費，將位在中正區捷運東門站附近的...</td>\n",
       "      <td>0</td>\n",
       "      <td>NaN</td>\n",
       "    </tr>\n",
       "    <tr>\n",
       "      <th>3</th>\n",
       "      <td>3</td>\n",
       "      <td>李來希挺韓失態扯小燈泡！她曝「最大受害者」：對立提升 | 政治 | NOWnews 今日新聞</td>\n",
       "      <td>今（ 13 ）日全國公務人員協會榮譽理事長李來希痛罵挺罷韓公投的時力立委王婉諭，更失態的扯出...</td>\n",
       "      <td>0</td>\n",
       "      <td>NaN</td>\n",
       "    </tr>\n",
       "    <tr>\n",
       "      <th>4</th>\n",
       "      <td>4</td>\n",
       "      <td>白宮官員戴MIT口罩　外交部欣慰：抗疫期間發揮效益 | 政治 | NOWnews 今日新聞</td>\n",
       "      <td>《China Post》(英文中國郵報)昨日獨家報導，台灣出口的口罩之中，約有3600片提供...</td>\n",
       "      <td>0</td>\n",
       "      <td>NaN</td>\n",
       "    </tr>\n",
       "  </tbody>\n",
       "</table>\n",
       "</div>"
      ],
      "text/plain": [
       "   Unnamed: 0                                             title  \\\n",
       "0           0    李來希扯「小燈泡」堅持不道歉！郭昱晴氣炸：你就是無恥 | 政治 | NOWnews 今日新聞   \n",
       "1           1   恐遭國民黨開除黨籍！李來希搬「46年經歷」狠嗆：我好怕 | 政治 | NOWnews 今日新聞   \n",
       "2           2  因選舉欠下2000萬全數還清　柯文哲：陳佩琪不會怪我了！ | 政治 | NOWnews 今日新聞   \n",
       "3           3    李來希挺韓失態扯小燈泡！她曝「最大受害者」：對立提升 | 政治 | NOWnews 今日新聞   \n",
       "4           4     白宮官員戴MIT口罩　外交部欣慰：抗疫期間發揮效益 | 政治 | NOWnews 今日新聞   \n",
       "\n",
       "                                             content  news_label  Unnamed: 0.1  \n",
       "0  全國公務人員協會榮譽理事長李來希今（ 13 ）日痛罵挺罷韓的時代力量立委王婉諭，更口出惡言「...           0           NaN  \n",
       "1  全國公務人員協會榮譽理事長李來希今（ 13 ）日狠戳時力立委王婉諭喪女之痛，引發全台譁然。連...           0           NaN  \n",
       "2  台北市長柯文哲，2018年在進行連任之戰期間，為了籌措選舉經費，將位在中正區捷運東門站附近的...           0           NaN  \n",
       "3  今（ 13 ）日全國公務人員協會榮譽理事長李來希痛罵挺罷韓公投的時力立委王婉諭，更失態的扯出...           0           NaN  \n",
       "4  《China Post》(英文中國郵報)昨日獨家報導，台灣出口的口罩之中，約有3600片提供...           0           NaN  "
      ]
     },
     "execution_count": 62,
     "metadata": {},
     "output_type": "execute_result"
    }
   ],
   "source": [
    "df.head()"
   ]
  },
  {
   "cell_type": "code",
   "execution_count": 63,
   "metadata": {},
   "outputs": [],
   "source": [
    "df = df[~df['news_label'].isin([1])]\n",
    "df = df[~df['news_label'].isin([2])]\n",
    "df = df[~df['news_label'].isin([4])]\n",
    "df = df[~df['news_label'].isin([5])]\n",
    "df = df[~df['news_label'].isin([8])]\n",
    "\n",
    "\n",
    "df['news_label'].replace(3,1,inplace=True)\n",
    "df['news_label'].replace(6,2,inplace=True)\n",
    "df['news_label'].replace(7,3,inplace=True)\n",
    "df['news_label'].replace(9,4,inplace=True)\n",
    "df['news_label'].replace(10,5,inplace=True)\n",
    "df['news_label'].replace(11,6,inplace=True)\n",
    "df['news_label'].replace(12,7,inplace=True)\n",
    "df['news_label'].replace(13,8,inplace=True)\n"
   ]
  },
  {
   "cell_type": "code",
   "execution_count": 65,
   "metadata": {},
   "outputs": [
    {
     "data": {
      "text/html": [
       "<div>\n",
       "<style scoped>\n",
       "    .dataframe tbody tr th:only-of-type {\n",
       "        vertical-align: middle;\n",
       "    }\n",
       "\n",
       "    .dataframe tbody tr th {\n",
       "        vertical-align: top;\n",
       "    }\n",
       "\n",
       "    .dataframe thead th {\n",
       "        text-align: right;\n",
       "    }\n",
       "</style>\n",
       "<table border=\"1\" class=\"dataframe\">\n",
       "  <thead>\n",
       "    <tr style=\"text-align: right;\">\n",
       "      <th></th>\n",
       "      <th>Unnamed: 0</th>\n",
       "      <th>news_label</th>\n",
       "      <th>Unnamed: 0.1</th>\n",
       "    </tr>\n",
       "  </thead>\n",
       "  <tbody>\n",
       "    <tr>\n",
       "      <th>count</th>\n",
       "      <td>306.000000</td>\n",
       "      <td>306.000000</td>\n",
       "      <td>153.000000</td>\n",
       "    </tr>\n",
       "    <tr>\n",
       "      <th>mean</th>\n",
       "      <td>142.111111</td>\n",
       "      <td>4.000000</td>\n",
       "      <td>142.111111</td>\n",
       "    </tr>\n",
       "    <tr>\n",
       "      <th>std</th>\n",
       "      <td>69.431561</td>\n",
       "      <td>2.586218</td>\n",
       "      <td>69.545664</td>\n",
       "    </tr>\n",
       "    <tr>\n",
       "      <th>min</th>\n",
       "      <td>0.000000</td>\n",
       "      <td>0.000000</td>\n",
       "      <td>0.000000</td>\n",
       "    </tr>\n",
       "    <tr>\n",
       "      <th>25%</th>\n",
       "      <td>106.000000</td>\n",
       "      <td>2.000000</td>\n",
       "      <td>106.000000</td>\n",
       "    </tr>\n",
       "    <tr>\n",
       "      <th>50%</th>\n",
       "      <td>161.000000</td>\n",
       "      <td>4.000000</td>\n",
       "      <td>161.000000</td>\n",
       "    </tr>\n",
       "    <tr>\n",
       "      <th>75%</th>\n",
       "      <td>199.000000</td>\n",
       "      <td>6.000000</td>\n",
       "      <td>199.000000</td>\n",
       "    </tr>\n",
       "    <tr>\n",
       "      <th>max</th>\n",
       "      <td>237.000000</td>\n",
       "      <td>8.000000</td>\n",
       "      <td>237.000000</td>\n",
       "    </tr>\n",
       "  </tbody>\n",
       "</table>\n",
       "</div>"
      ],
      "text/plain": [
       "       Unnamed: 0  news_label  Unnamed: 0.1\n",
       "count  306.000000  306.000000    153.000000\n",
       "mean   142.111111    4.000000    142.111111\n",
       "std     69.431561    2.586218     69.545664\n",
       "min      0.000000    0.000000      0.000000\n",
       "25%    106.000000    2.000000    106.000000\n",
       "50%    161.000000    4.000000    161.000000\n",
       "75%    199.000000    6.000000    199.000000\n",
       "max    237.000000    8.000000    237.000000"
      ]
     },
     "execution_count": 65,
     "metadata": {},
     "output_type": "execute_result"
    }
   ],
   "source": [
    "df.describe()"
   ]
  },
  {
   "cell_type": "code",
   "execution_count": null,
   "metadata": {},
   "outputs": [],
   "source": []
  }
 ],
 "metadata": {
  "kernelspec": {
   "display_name": "py37new",
   "language": "python",
   "name": "py37_new"
  },
  "language_info": {
   "codemirror_mode": {
    "name": "ipython",
    "version": 3
   },
   "file_extension": ".py",
   "mimetype": "text/x-python",
   "name": "python",
   "nbconvert_exporter": "python",
   "pygments_lexer": "ipython3",
   "version": "3.7.4"
  }
 },
 "nbformat": 4,
 "nbformat_minor": 4
}
